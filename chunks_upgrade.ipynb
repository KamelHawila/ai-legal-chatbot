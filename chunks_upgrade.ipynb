{
 "cells": [
  {
   "cell_type": "code",
   "execution_count": 6,
   "id": "78767dd0",
   "metadata": {},
   "outputs": [
    {
     "name": "stdout",
     "output_type": "stream",
     "text": [
      "✅ Loaded text successfully. Total characters: 224660\n",
      "\n",
      "🔹 Preview:\n",
      " قانون العقوبات\n",
      "\n",
      "مرسوم اشتراعي رقم 340- صادر في1/3/ 1943\n",
      "\n",
      "إن رئيس الجمهورية اللبنانية،\n",
      "بناء على تصريح 26 تشرين الثاني سنة 1941 ،\n",
      "وبناء على اقتراح وزير العدلية،\n",
      "وبناء على قرار مجلس الوزراء تاريخ 27 شباط سنة 1943 ،\n",
      "يرسم ما يأتي:\n",
      "\n",
      "-مةالأحكام العا الكتاب الأول\n",
      "\n",
      "-في الشريعة الجزائية الباب الأول\n",
      "\n",
      "-في تطبيق الشريعة الجزائية من حيث الزمان الفصل الأول\n",
      "\n",
      "النبذة\n",
      "1- في شريعة الجرائم\n",
      "\n",
      "المادة1- لا تفرض عقوبة ولا تدبير احترازي أو إصلاحي من أجل جرم لم يكن القانون قد نص عليه\n",
      "حين اقترافه.\n",
      "ه الأفعال التي تؤلف الجرم وأعمال الاشتراك الأصلي أو الفرعي التي أتاها قبل أن لا تؤخذ على المدعى علي\n",
      "ينص القانون على هذا الجرم.\n",
      "\n",
      "المادة 2- لا يقمع جرم بعقوبة أو تدبير احترازي أو إصلاحي إذا ألغاه قانون جديد. ولا يبقى للأحكام\n",
      "الجزائية التي قضي بها أي مفعول.\n",
      "قا للقانون مؤقت من خلال مدة تطبيقه لا تقف ملاحقته وقمعه بعد انقضاء المد\n"
     ]
    }
   ],
   "source": [
    "# Step 1 — Load cleaned penal code text\n",
    "path = r\"C:\\Users\\PC\\OneDrive\\Desktop\\chatbot\\data\\processed\\penal_code_cleaned.txt\"\n",
    "\n",
    "with open(path, \"r\", encoding=\"utf-8\") as f:\n",
    "    text = f.read()\n",
    "\n",
    "print(\"✅ Loaded text successfully. Total characters:\", len(text))\n",
    "print(\"\\n🔹 Preview:\\n\", text[:800])  # just to see the beginning\n"
   ]
  },
  {
   "cell_type": "code",
   "execution_count": 7,
   "id": "98273c40",
   "metadata": {},
   "outputs": [
    {
     "name": "stdout",
     "output_type": "stream",
     "text": [
      "✅ Split complete. Total sections: 694\n",
      "\n",
      "🔹 First section preview:\n",
      " قانون العقوبات\n",
      "\n",
      "مرسوم اشتراعي رقم 340- صادر في1/3/ 1943\n",
      "\n",
      "إن رئيس الجمهورية اللبنانية،\n",
      "بناء على تصريح 26 تشرين الثاني سنة 1941 ،\n",
      "وبناء على اقتراح وزير العدلية،\n",
      "وبناء على قرار مجلس الوزراء تاريخ 27 شباط سنة 1943 ،\n",
      "يرسم ما يأتي:\n",
      "\n",
      "-مةالأحكام العا الكتاب الأول\n",
      "\n",
      "-في الشريعة الجزائية الباب الأول\n",
      "\n",
      "-في تطبيق الشريعة الجزائية من حيث الزمان الفصل الأول\n",
      "\n",
      "النبذة\n",
      "1- في شريعة الجرائم\n",
      "\n",
      "المادة1- لا تفرض عقوبة ولا تدبير احترازي أو إصلاحي من أجل جرم لم يكن القانون قد نص عليه\n",
      "حين اقترافه.\n",
      "ه الأفعال التي تؤلف الجرم وأعمال الاشتراك الأصلي أو الفرعي التي أتاها قبل أن لا تؤخذ على المدعى علي\n",
      "ينص القانون على هذا الجرم.\n"
     ]
    }
   ],
   "source": [
    "import re\n",
    "\n",
    "# Split on \"المادة\" but keep it in each part\n",
    "articles = re.split(r\"(?=المادة\\s+\\d+)\", text)\n",
    "\n",
    "print(\"✅ Split complete. Total sections:\", len(articles))\n",
    "print(\"\\n🔹 First section preview:\\n\", articles[0][:600])\n"
   ]
  },
  {
   "cell_type": "code",
   "execution_count": 8,
   "id": "31ce616e",
   "metadata": {},
   "outputs": [
    {
     "name": "stdout",
     "output_type": "stream",
     "text": [
      "✅ Cleaned list. Remaining articles: 691\n"
     ]
    }
   ],
   "source": [
    "articles = [a.strip() for a in articles if len(a.strip()) > 30]\n",
    "print(\"✅ Cleaned list. Remaining articles:\", len(articles))\n"
   ]
  },
  {
   "cell_type": "code",
   "execution_count": 9,
   "id": "b1338284",
   "metadata": {},
   "outputs": [
    {
     "name": "stdout",
     "output_type": "stream",
     "text": [
      "\n",
      "🔹 Article 1 Preview:\n",
      "قانون العقوبات\n",
      "\n",
      "مرسوم اشتراعي رقم 340- صادر في1/3/ 1943\n",
      "\n",
      "إن رئيس الجمهورية اللبنانية،\n",
      "بناء على تصريح 26 تشرين الثاني سنة 1941 ،\n",
      "وبناء على اقتراح وزير العدلية،\n",
      "وبناء على قرار مجلس الوزراء تاريخ 27 شباط سنة 1943 ،\n",
      "يرسم ما يأتي:\n",
      "\n",
      "-مةالأحكام العا الكتاب الأول\n",
      "\n",
      "-في الشريعة الجزائية الباب الأول\n",
      "\n",
      "-في تطبيق الشريعة الجزائية من حيث الزمان الفصل الأول\n",
      "\n",
      "النبذة\n",
      "1- في شريعة الجرائم\n",
      "\n",
      "المادة1- لا تفرض عقوبة ولا تدبير احترازي أو إصلاحي من أجل جرم لم يكن القانون قد نص عليه\n",
      "حين اقترافه.\n",
      "ه الأفعال التي تؤلف الجرم \n",
      "\n",
      "🔹 Article 2 Preview:\n",
      "المادة 2- لا يقمع جرم بعقوبة أو تدبير احترازي أو إصلاحي إذا ألغاه قانون جديد. ولا يبقى للأحكام\n",
      "الجزائية التي قضي بها أي مفعول.\n",
      "قا للقانون مؤقت من خلال مدة تطبيقه لا تقف ملاحقته وقمعه بعد انقضاء المدة على أن كل جرم اقترف خر\n",
      "المذكورة.\n",
      "\n",
      "🔹 Article 3 Preview:\n",
      "المادة 3- معدلة وفقا للقانون تاريخ5/2/ 1948\n",
      "كل قانون يعدل شروط التجريم تعديلا ينفع المدعى عليه يطبق على الأفعال المقترفة قبل نفاذه ما لم يكن قد\n",
      "صدر بشأنها حكم مبرم.\n"
     ]
    }
   ],
   "source": [
    "for i in range(3):\n",
    "    print(f\"\\n🔹 Article {i+1} Preview:\\n{articles[i][:500]}\")\n"
   ]
  },
  {
   "cell_type": "code",
   "execution_count": 10,
   "id": "d698e425",
   "metadata": {},
   "outputs": [
    {
     "name": "stdout",
     "output_type": "stream",
     "text": [
      "✅ Saved article-based dataset successfully.\n"
     ]
    }
   ],
   "source": [
    "import json\n",
    "\n",
    "save_path = r\"C:\\Users\\PC\\OneDrive\\Desktop\\chatbot\\data\\processed\\penal_code_articles.json\"\n",
    "\n",
    "with open(save_path, \"w\", encoding=\"utf-8\") as f:\n",
    "    json.dump(articles, f, ensure_ascii=False, indent=2)\n",
    "\n",
    "print(\"✅ Saved article-based dataset successfully.\")\n"
   ]
  }
 ],
 "metadata": {
  "kernelspec": {
   "display_name": "Python 3",
   "language": "python",
   "name": "python3"
  },
  "language_info": {
   "codemirror_mode": {
    "name": "ipython",
    "version": 3
   },
   "file_extension": ".py",
   "mimetype": "text/x-python",
   "name": "python",
   "nbconvert_exporter": "python",
   "pygments_lexer": "ipython3",
   "version": "3.11.9"
  }
 },
 "nbformat": 4,
 "nbformat_minor": 5
}
