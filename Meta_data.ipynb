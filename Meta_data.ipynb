{
 "cells": [
  {
   "cell_type": "code",
   "execution_count": 1,
   "id": "766738a8",
   "metadata": {},
   "outputs": [],
   "source": [
    "import re\n",
    "\n",
    "article_re = re.compile(r\"المادة\\s*([0-9]+)\")\n",
    "\n",
    "def extract_article_number(text: str):\n",
    "    m = article_re.search(text)\n",
    "    return m.group(1) if m else None"
   ]
  },
  {
   "cell_type": "code",
   "execution_count": 2,
   "id": "7862da76",
   "metadata": {},
   "outputs": [],
   "source": [
    "import json\n",
    "\n",
    "# load chunks (same file you used before)\n",
    "with open(r\"C:\\Users\\PC\\OneDrive\\Desktop\\chatbot\\data\\processed\\penal_code_chunks.json\", \"r\", encoding=\"utf-8\") as f:\n",
    "    chunks = json.load(f)\n",
    "\n",
    "metadatas = []\n",
    "last_seen_article = None\n",
    "\n",
    "for ch in chunks:\n",
    "    art = extract_article_number(ch)\n",
    "    if art is not None:\n",
    "        last_seen_article = art\n",
    "        metadatas.append({\"article\": art, \"is_continuation\": False})\n",
    "    else:\n",
    "        metadatas.append({\"article\": last_seen_article, \"is_continuation\": True})\n"
   ]
  },
  {
   "cell_type": "code",
   "execution_count": 3,
   "id": "d4790fe0",
   "metadata": {},
   "outputs": [
    {
     "name": "stdout",
     "output_type": "stream",
     "text": [
      "✅ Rebuilt with metadata: 321 chunks\n"
     ]
    }
   ],
   "source": [
    "import chromadb\n",
    "from chromadb.utils import embedding_functions\n",
    "import numpy as np\n",
    "\n",
    "# load your upgraded embeddings (e5-large) you saved earlier\n",
    "embeddings = np.load(r\"C:\\Users\\PC\\OneDrive\\Desktop\\chatbot\\data\\embeddings\\upgrade\\penal_code_e5_embeddings.npy\")\n",
    "\n",
    "# connect with embedding function so queries also use e5-large\n",
    "embed_func = embedding_functions.SentenceTransformerEmbeddingFunction(\n",
    "    model_name=\"intfloat/multilingual-e5-large\"\n",
    ")\n",
    "chroma_client = chromadb.PersistentClient(\n",
    "    path=r\"C:\\Users\\PC\\OneDrive\\Desktop\\chatbot\\data\\chroma_db_upgrade\"\n",
    ")\n",
    "\n",
    "# nuke & recreate to be safe\n",
    "try:\n",
    "    chroma_client.delete_collection(\"penal_code_upgrade\")\n",
    "except Exception:\n",
    "    pass\n",
    "\n",
    "collection = chroma_client.create_collection(\n",
    "    name=\"penal_code_upgrade\",\n",
    "    embedding_function=embed_func\n",
    ")\n",
    "\n",
    "ids = [f\"chunk_{i}\" for i in range(len(chunks))]\n",
    "\n",
    "collection.add(\n",
    "    ids=ids,\n",
    "    documents=chunks,\n",
    "    embeddings=embeddings.tolist(),\n",
    "    metadatas=metadatas\n",
    ")\n",
    "\n",
    "print(f\"✅ Rebuilt with metadata: {len(chunks)} chunks\")\n"
   ]
  },
  {
   "cell_type": "code",
   "execution_count": 4,
   "id": "0ccea870",
   "metadata": {},
   "outputs": [
    {
     "name": "stdout",
     "output_type": "stream",
     "text": [
      "\n",
      "🔹 النتيجة 1 | شبه≈0.849 | المادة 639 | تكملة؟ False\n",
      "شخص مقنع أو يحمل سلاحا ظاهرا أو خفيا ب .\n",
      "6- إذا وقعت السرقة باستعمال العنف على الأشخاص.\n",
      "\n",
      "المادة 639- معدلة وفقا للقانون487 تاريخ8/12/ 1995\n",
      "يعاقب بالأشغال الشاقة من ثلاث سنوات إلى سبع سنوات كل من يرتكب السرقة في إحدى الحالات الآتية:\n",
      "1- و الكسر في الأماكن المقفلة المصانة بالجدران، مأهولة أم غير مأهولة، أو يتسلقها في بواسطة الخلع أ\n",
      "الداخل أو الخارج أو باستعمال المفاتيح المصنعة أو أي أداة أخرى أو بعد \n",
      "\n",
      "🔹 النتيجة 2 | شبه≈0.836 | المادة 635 | تكملة؟ False\n",
      "ل شخص اشترك باللعب في الأماكن المذكورة أعلاه أو فوجيء فيها أثناء اللعب يعاقب بغرامة من خمسين\n",
      "ألف إلى أربعمائة ألف ليرة.\n",
      "\n",
      "-الجرائم التي تقع على الأموال الباب الحادي عشر\n",
      "\n",
      "-في أخذ مال الغير الفصل الأول\n",
      "\n",
      "النبذة\n",
      "1- في السرقة\n",
      "\n",
      "المادة 635- معدلة وفقا للمرسوم الاشتراعي112 تاريخ16/9/ 1983\n",
      "- نقول خفية أو عنوة بقصد التملك تنزل الطاقات المحرزة منزلة الأشياء السرقة هي أخذ مال الغير الم\n",
      "المنقولة في تطبيق النصوص\n",
      "\n",
      "🔹 النتيجة 3 | شبه≈0.835 | المادة 637 | تكملة؟ False\n",
      "لسرقة في إحدى الحالات التالية:\n",
      "1- في المعابد والأبنية المأهولة.\n",
      "\n",
      "2- خرى أو في القطارات أو في السفن أو بنشل المارة أكان ذلك في الطرق أو في الأماكن العامة الأ\n",
      "الطائرات أو غيرها من وسائل النقل.\n",
      "3- بفعل موظف أنيط به حفظ الأمن أو الحراسة حتى وإن ارتكبت السرقة في غير أوقات الدوام.\n",
      "4- بفعل خادم مأجور يسرق مال مخدومه أو يسرق مال الغير من منزل مخدومه أو بفعل مستخدم أو\n",
      "حل أو مصنع مخدومه أو في المستودعات أو \n"
     ]
    }
   ],
   "source": [
    "def retrieve_with_meta(query: str, top_k: int = 3):\n",
    "    res = collection.query(\n",
    "        query_texts=[query],\n",
    "        n_results=top_k,\n",
    "        include=[\"documents\", \"distances\", \"metadatas\"]  # 👈 added metadatas\n",
    "    )\n",
    "    docs  = res[\"documents\"][0]\n",
    "    dists = res[\"distances\"][0]\n",
    "    metas = res[\"metadatas\"][0]\n",
    "    sims  = [1 - d for d in dists]\n",
    "    return list(zip(sims, metas, docs))\n",
    "\n",
    "# quick test\n",
    "query = \"ما هي العقوبة على السرقة؟\"\n",
    "hits = retrieve_with_meta(query, 3)\n",
    "for i, (sim, meta, doc) in enumerate(hits, 1):\n",
    "    print(f\"\\n🔹 النتيجة {i} | شبه≈{sim:.3f} | المادة {meta.get('article')} | تكملة؟ {meta.get('is_continuation')}\")\n",
    "    print(doc[:400])\n"
   ]
  },
  {
   "cell_type": "code",
   "execution_count": 5,
   "id": "ffcbf7fb",
   "metadata": {},
   "outputs": [
    {
     "name": "stdout",
     "output_type": "stream",
     "text": [
      "[المادة 639] شخص مقنع أو يحمل سلاحا ظاهرا أو خفيا ب .\n",
      "6- إذا وقعت السرقة باستعمال العنف على الأشخاص.\n",
      "\n",
      "المادة 639- معدلة وفقا للقانون487 تاريخ8/12/ 1995\n",
      "يعاقب بالأشغال الشاقة من ثلاث سنوات إلى سبع سنوات كل من يرتكب السرقة في إحدى الحالات الآتية:\n",
      "1- و الكسر في الأماكن المقفلة المصانة بالجدران، مأهولة أم غير مأهولة، أو يتسلقها في بواسطة الخلع أ\n",
      "الداخل أو الخارج أو باستعمال المفاتيح المصنعة أو أي أداة أخرى أو بعد الدخول إليها بالحيلة أو بانتحال\n",
      "صفة موظف أو بالتذرع بمهمة رسمية أو بأي طريقة أخرى غير مألوفة.\n",
      "2- قوع أعمال شغب أو ثورة أو حرب أو حريق أو اضطراب أمني أو غرق سفينة أو أي نائبة في خلال و\n",
      "أخرى.\n",
      "3- بالتهديد بالسلاح أن لتهيئة الجريمة أم لتسهيلها أم للاستيلاء على المسروق أم لتأمين الهرب.\n",
      "\n",
      "المادة640- معدلة وفقا للقانون487 تاريخ8/12/ 1995\n",
      "- ذكورة في المادة السابقة عنف على الأشخاص أن لتهيئة الجريمة أم لتسهي\n",
      "\n",
      "[المادة 635] ل شخص اشترك باللعب في الأماكن المذكورة أعلاه أو فوجيء فيها أثناء اللعب يعاقب بغرامة من خمسين\n",
      "ألف إلى أربعمائة ألف ليرة.\n",
      "\n",
      "-الجرائم التي تقع على الأموال الباب الحادي عشر\n",
      "\n",
      "-في\n"
     ]
    }
   ],
   "source": [
    "def build_context_block_with_meta(hits):\n",
    "    lines = []\n",
    "    for sim, meta, doc in hits:\n",
    "        art = meta.get(\"article\")\n",
    "        tag = f\"المادة {art}\" if art else \"مادة غير معروفة\"\n",
    "        snippet = doc.strip()\n",
    "        if len(snippet) > 1200:\n",
    "            snippet = snippet[:1200] + \"…\"\n",
    "        lines.append(f\"[{tag}] {snippet}\")\n",
    "    return \"\\n\\n\".join(lines)\n",
    "\n",
    "ctx = build_context_block_with_meta(hits)\n",
    "print(ctx[:1000])\n"
   ]
  }
 ],
 "metadata": {
  "kernelspec": {
   "display_name": "Python 3",
   "language": "python",
   "name": "python3"
  },
  "language_info": {
   "codemirror_mode": {
    "name": "ipython",
    "version": 3
   },
   "file_extension": ".py",
   "mimetype": "text/x-python",
   "name": "python",
   "nbconvert_exporter": "python",
   "pygments_lexer": "ipython3",
   "version": "3.11.9"
  }
 },
 "nbformat": 4,
 "nbformat_minor": 5
}
