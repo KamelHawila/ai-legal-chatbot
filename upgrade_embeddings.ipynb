{
 "cells": [
  {
   "cell_type": "code",
   "execution_count": null,
   "id": "a73af721",
   "metadata": {},
   "outputs": [],
   "source": [
    "import chromadb\n",
    "from chromadb.utils import embedding_functions\n",
    "from sentence_transformers import SentenceTransformer\n",
    "import numpy as np, json, os\n",
    "\n",
    "# 1️⃣ Load your model\n",
    "model = SentenceTransformer(\"intfloat/multilingual-e5-large\")\n",
    "\n",
    "# 2️⃣ Load article-based dataset\n",
    "with open(r\"C:\\Users\\PC\\OneDrive\\Desktop\\chatbot\\data\\processed\\penal_code_articles.json\", \"r\", encoding=\"utf-8\") as f:\n",
    "    articles = json.load(f)"
   ]
  },
  {
   "cell_type": "code",
   "execution_count": 2,
   "id": "e8d228ba",
   "metadata": {},
   "outputs": [
    {
     "data": {
      "application/vnd.jupyter.widget-view+json": {
       "model_id": "11dd08f2f14e4356b23a70efeb5c02d0",
       "version_major": 2,
       "version_minor": 0
      },
      "text/plain": [
       "Batches:   0%|          | 0/22 [00:00<?, ?it/s]"
      ]
     },
     "metadata": {},
     "output_type": "display_data"
    },
    {
     "name": "stdout",
     "output_type": "stream",
     "text": [
      "✅ Embeddings shape: (691, 1024)\n",
      "✅ Saved article embeddings successfully!\n"
     ]
    }
   ],
   "source": [
    "\n",
    "# 3️⃣ Encode all articles into vectors\n",
    "embeddings = model.encode(articles, show_progress_bar=True)\n",
    "embeddings = np.array(embeddings)\n",
    "print(\"✅ Embeddings shape:\", embeddings.shape)\n",
    "\n",
    "# 4️⃣ Save them for future use\n",
    "os.makedirs(r\"C:\\Users\\PC\\OneDrive\\Desktop\\chatbot\\data\\embeddings\\articles\", exist_ok=True)\n",
    "np.save(r\"C:\\Users\\PC\\OneDrive\\Desktop\\chatbot\\data\\embeddings\\articles\\penal_code_articles_e5.npy\", embeddings)\n",
    "\n",
    "print(\"✅ Saved article embeddings successfully!\")"
   ]
  },
  {
   "cell_type": "code",
   "execution_count": 3,
   "id": "3684f550",
   "metadata": {},
   "outputs": [
    {
     "name": "stdout",
     "output_type": "stream",
     "text": [
      "✅ Example metadata: [{'article': '1'}, {'article': '2'}, {'article': '3'}, {'article': '4'}, {'article': '5'}]\n"
     ]
    }
   ],
   "source": [
    "import re\n",
    "# build new chroma database\n",
    "# 1️⃣ Load the embeddings and articles\n",
    "embeddings = np.load(r\"C:\\Users\\PC\\OneDrive\\Desktop\\chatbot\\data\\embeddings\\articles\\penal_code_articles_e5.npy\")\n",
    "with open(r\"C:\\Users\\PC\\OneDrive\\Desktop\\chatbot\\data\\processed\\penal_code_articles.json\", \"r\", encoding=\"utf-8\") as f:\n",
    "    articles = json.load(f)\n",
    "\n",
    "# 2️⃣ Extract article numbers as metadata\n",
    "article_re = re.compile(r\"المادة\\s*(\\d+)\")\n",
    "metadatas = []\n",
    "for art in articles:\n",
    "    match = article_re.search(art)\n",
    "    number = match.group(1) if match else None\n",
    "    metadatas.append({\"article\": number})\n",
    "\n",
    "print(\"✅ Example metadata:\", metadatas[:5])"
   ]
  },
  {
   "cell_type": "code",
   "execution_count": 4,
   "id": "de4f6378",
   "metadata": {},
   "outputs": [
    {
     "name": "stdout",
     "output_type": "stream",
     "text": [
      "✅ Added 691 articles to Chroma (with metadata).\n"
     ]
    }
   ],
   "source": [
    "# 3️⃣ Initialize Chroma client & embedding function\n",
    "embed_func = embedding_functions.SentenceTransformerEmbeddingFunction(\n",
    "    model_name=\"intfloat/multilingual-e5-large\"\n",
    ")\n",
    "\n",
    "chroma_client = chromadb.PersistentClient(\n",
    "    path=r\"C:\\Users\\PC\\OneDrive\\Desktop\\chatbot\\data\\chroma_db_articles\"\n",
    ")\n",
    "\n",
    "# Delete old collection if re-running\n",
    "try:\n",
    "    chroma_client.delete_collection(\"penal_code_articles\")\n",
    "except Exception:\n",
    "    pass\n",
    "\n",
    "# Create new collection\n",
    "collection = chroma_client.create_collection(\n",
    "    name=\"penal_code_articles\",\n",
    "    embedding_function=embed_func\n",
    ")\n",
    "\n",
    "# 4️⃣ Add all articles + embeddings + metadata\n",
    "ids = [f\"article_{i}\" for i in range(len(articles))]\n",
    "collection.add(\n",
    "    ids=ids,\n",
    "    documents=articles,\n",
    "    embeddings=embeddings.tolist(),\n",
    "    metadatas=metadatas\n",
    ")\n",
    "\n",
    "print(f\"✅ Added {len(articles)} articles to Chroma (with metadata).\")"
   ]
  },
  {
   "cell_type": "code",
   "execution_count": 5,
   "id": "a385571b",
   "metadata": {},
   "outputs": [
    {
     "name": "stdout",
     "output_type": "stream",
     "text": [
      "\n",
      "🔹 النتيجة 1 | المادة 636 | شبه ≈ 0.847\n",
      "المادة 636- معدلة وفقا للمرسوم الاشتراعي112 تاريخ16/9/ 1983 والقانون239 تاريخ\n",
      "27/5/ 1993\n",
      "- السرقة، التي لم تحدد لها عقوبة خاصة بموجب أحد نصوص هذا القانون، يعاقب عليها بالحبس من\n",
      "شهرين إلى ثلاث سنوات وبالغرامة من مئة ألف إلى أربعمائة ألف ليرة.\n",
      "وتشدد هذه العقوبة وفقا للمادة 257 إذا ارتكبت السرقة في إحدى الحالات التالية:\n",
      "1- في المعابد والأبنية المأهولة.\n",
      "\n",
      "2- خرى أو في القطارات أو في السفن أو بنشل المارة أكان ذلك في الطرق أو في الأماكن العامة الأ\n",
      "الطائرات أو غيرها من وسائل النقل.\n",
      "3- بفعل موظف أنيط به حفظ الأمن أو الحراسة حتى وإن ارتكبت السرقة في غير أوقات الدوام.\n",
      "4- بفعل خادم مأجور يسرق مال مخدومه أ\n",
      "\n",
      "🔹 النتيجة 2 | المادة 639 | شبه ≈ 0.847\n",
      "المادة 639- معدلة وفقا للقانون487 تاريخ8/12/ 1995\n",
      "يعاقب بالأشغال الشاقة من ثلاث سنوات إلى سبع سنوات كل من يرتكب السرقة في إحدى الحالات الآتية:\n",
      "1- و الكسر في الأماكن المقفلة المصانة بالجدران، مأهولة أم غير مأهولة، أو يتسلقها في بواسطة الخلع أ\n",
      "الداخل أو الخارج أو باستعمال المفاتيح المصنعة أو أي أداة أخرى أو بعد الدخول إليها بالحيلة أو بانتحال\n",
      "صفة موظف أو بالتذرع بمهمة رسمية أو بأي طريقة أخرى غير مألوفة.\n",
      "2- قوع أعمال شغب أو ثورة أو حرب أو حريق أو اضطراب أمني أو غرق سفينة أو أي نائبة في خلال و\n",
      "أخرى.\n",
      "3- بالتهديد بالسلاح أن لتهيئة الجريمة أم لتسهيلها أم للاستيلاء على المسروق أم لتأمين الهرب.\n",
      "\n",
      "المادة\n",
      "\n",
      "🔹 النتيجة 3 | المادة 638 | شبه ≈ 0.832\n",
      "المادة 638- معدلة وفقا للمرسوم الاشتراعي112 تاريخ16/9/ 1983 والقانون487 تاريخ\n",
      "8/12/ 1995\n",
      "- قة في إحدى الحالات التاليةيعاقب بالأشغال الشاقة من ثلاث سنوات إلى عشرة سنوات على السر :\n",
      "1- إذا وقعت السرقة على أموال أو موجودات مؤسسة حكومية أو أي مركز أو مكتب لإدارة رسمية أو هيئة\n",
      "عامة.\n",
      "2- إذا وقعت السرقة على أموال أو موجودات مصرف أو محل للصياغة أو للصيرفة.\n",
      "3- م أو على أي مستخدم في مؤسسة إذا وقعت السرقة على أحد معتمدي القبض أو على أي موظف عا\n",
      "خاصة، وهو يحمل مالا للإدارة أو المؤسسة التي يعمل فيها وكان القصد سرقة هذا المال، وتفرض العقوبة\n",
      "نفسها على معتمد القبض أو الموظف العام أو المستخدم إذا تواطأ مع الجناة\n"
     ]
    }
   ],
   "source": [
    "query = \"ما هي العقوبة على السرقة؟\"\n",
    "results = collection.query(\n",
    "    query_texts=[query],\n",
    "    n_results=3,\n",
    "    include=[\"documents\", \"metadatas\", \"distances\"]\n",
    ")\n",
    "\n",
    "for i, (doc, meta, dist) in enumerate(zip(results[\"documents\"][0], results[\"metadatas\"][0], results[\"distances\"][0]), 1):\n",
    "    sim = 1 - dist\n",
    "    print(f\"\\n🔹 النتيجة {i} | المادة {meta.get('article')} | شبه ≈ {sim:.3f}\")\n",
    "    print(doc[:600])\n"
   ]
  }
 ],
 "metadata": {
  "kernelspec": {
   "display_name": "Python 3",
   "language": "python",
   "name": "python3"
  },
  "language_info": {
   "codemirror_mode": {
    "name": "ipython",
    "version": 3
   },
   "file_extension": ".py",
   "mimetype": "text/x-python",
   "name": "python",
   "nbconvert_exporter": "python",
   "pygments_lexer": "ipython3",
   "version": "3.11.9"
  }
 },
 "nbformat": 4,
 "nbformat_minor": 5
}
